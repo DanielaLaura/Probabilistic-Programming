{
 "cells": [
  {
   "cell_type": "markdown",
   "metadata": {},
   "source": [
    "### Estimating Probabilities with Bayesian Network Models in Python"
   ]
  },
  {
   "cell_type": "markdown",
   "metadata": {},
   "source": [
    "#### A simple application of Probabilistic Graphical  Modelling with PyMC3  and NetworkX in Python\n"
   ]
  },
  {
   "cell_type": "markdown",
   "metadata": {},
   "source": [
    "Everyone knows about probabilistic Bayesian modeling for data science, machine learning, etc., which basicallly is about bayesian inference , but have you heard about probabilistic graphical modeling?\n",
    "\n",
    "Imagine  you can fraction  any system or business problem into variables (or important parts) and relations between them, and repsent them as a graph consisting of these two affore mentioned parts. Having in mind bayesian inference, the tools wich offers us the posibility  to include uncertainty in our probability estimate, incorporate prior beliefs about the situation into this estimate. Appling bayesian inference among these variables and their causal dependecies(relations) will result in what is called a Probabilistical Graphical Model. Now we can interrogate any part of the system??"
   ]
  },
  {
   "cell_type": "markdown",
   "metadata": {},
   "source": [
    "In this article, we’ll explore the problem of estimating probabilities from data in a Bayesian Network framework, along the way learning about probability distributions, Bayesian Inference, and basic probabilistic programming with PyMC3 and graph with Networkx. The complete code is available as a Jupyter Notebook on GitHub."
   ]
  },
  {
   "cell_type": "markdown",
   "metadata": {},
   "source": [
    "I will start with few concepts about Bayesian Networks and  Network construction. Consepts about Bayesian model (Bayesian Inference)  and probabilistic model I refer the reader here (https://towardsdatascience.com/estimating-probabilities-with-bayesian-modeling-in-python-7144be007815), while for more indepth knowledge about Probabilistic Graphical Models I refer the reader here(https://blog.statsbot.co/probabilistic-graphical-models-tutorial-and-solutions-e4f1d72af189).\n",
    "\n",
    "If you feel yourself getting frustrated with the theory, move on to the solution (starting from the probabilistic model), and then come back to the concepts if you’re still interested.\n"
   ]
  },
  {
   "cell_type": "markdown",
   "metadata": {},
   "source": [
    "### General Idea about Bayesian Networks"
   ]
  },
  {
   "cell_type": "markdown",
   "metadata": {},
   "source": [
    "A Bayesian network is a probabilistic model based on directed acyclic graphs (DAG).\n",
    "A directed acyclic graph (DAG) consist of nodes that represent the random variables of interest, and directed links that are informational or causal dependencies (local probability distributions) among variables.\n",
    "More specific, a Bayesian network can be described in two parts, a qualitative and a quantitative part:\n",
    "\n",
    "- The qualitative part is the graph structure of the network (DAG –nodes and directed links).\n",
    "- The quantitative part consists of specification of the conditional probability tables or distributions.\n",
    "For each node i in the graph, there is a random variable Xi together with a conditional probability distribution P(xi|xp(i)), where p(i) are the parents of i in the DAG. The general mathematical expression of a joint probability distribution of the Bayesian network has the following formulation:\n"
   ]
  },
  {
   "cell_type": "markdown",
   "metadata": {},
   "source": [
    "### Constructing a Bayesian network"
   ]
  },
  {
   "cell_type": "markdown",
   "metadata": {},
   "source": [
    "A Bayesian network can be constructed by hand (identify all the network’s components) or can be learned and constructed through data, when available. \n",
    "When the network is learned from data, the variable’s richness and ordering can be a difficulty for user.\n",
    "When constructed by hand, the important rule of construction is the cause-to-effect path. This rule consist of few steps that have to be considered (see also the image bellow):\n",
    "-\tIdentifying the nodes that represent the independent root causes; they are usually called hypothesis variables, they are parentless nodes, and represent events that contain mutually exclusive events and only one of them holds the positive value.\n",
    "-\tIdentify the nodes (variables) which the hypothesis variables have influence on (they can be called mediating variables- make connection between the parentless nodes an the last layer of nodes in the network) until  the end of the leaves – last layer in the network, i.e. the nodes that have no influence (called as well information variables) on other nodes;\n",
    "-\tConstructing the causal structure by defining the conditional distribution probability (CPD) at each node (variable).\n"
   ]
  },
  {
   "cell_type": "markdown",
   "metadata": {},
   "source": [
    "When the variables, their states and their structure are set, the next stage would be to determine their conditional probability, that is P(xi|xp(i)) for each variable xi.\n",
    "For the case in which a variable has a finite number of states, its conditional probability distribution (CPD) can be consider as a table of (|xi|− 1)×|xp(i)| entries between 0 and 1, where |xi| is the number of states of variable xi and |xp(i)| = Õj2p(i) |x j| the number of joint states of the parents.\n"
   ]
  },
  {
   "cell_type": "markdown",
   "metadata": {},
   "source": [
    "### Standard Approach in PyMC3"
   ]
  },
  {
   "cell_type": "markdown",
   "metadata": {},
   "source": [
    "To get a range of estimates, we use Bayesian inference by constructing a model of the situation and then sampling from the posterior to approximate the posterior. This is implemented through Markov Chain Monte Carlo (or a more efficient variant called the No-U-Turn Sampler) in PyMC3. Compared to the theory behind the model, setting it up in code is simple:"
   ]
  },
  {
   "cell_type": "code",
   "execution_count": 1,
   "metadata": {},
   "outputs": [],
   "source": [
    "import numpy as np\n",
    "import pandas as pd\n",
    "import seaborn as sns\n",
    "\n",
    "import matplotlib.pyplot as plt\n",
    "%matplotlib inline"
   ]
  },
  {
   "cell_type": "code",
   "execution_count": 2,
   "metadata": {},
   "outputs": [
    {
     "name": "stderr",
     "output_type": "stream",
     "text": [
      "WARNING (theano.configdefaults): g++ not available, if using conda: `conda install m2w64-toolchain`\n",
      "C:\\Users\\Daniela\\Anaconda3.5\\lib\\site-packages\\theano\\configdefaults.py:560: UserWarning: DeprecationWarning: there is no c++ compiler.This is deprecated and with Theano 0.11 a c++ compiler will be mandatory\n",
      "  warnings.warn(\"DeprecationWarning: there is no c++ compiler.\"\n",
      "WARNING (theano.configdefaults): g++ not detected ! Theano will be unable to execute optimized C-implementations (for both CPU and GPU) and will default to Python implementations. Performance will be severely degraded. To remove this warning, set Theano flags cxx to an empty string.\n",
      "WARNING (theano.tensor.blas): Using NumPy C-API based implementation for BLAS functions.\n"
     ]
    }
   ],
   "source": [
    "import pymc3 as pm\n",
    "import theano.tensor as T\n",
    "from theano.compile.ops import as_op\n",
    "import theano"
   ]
  },
  {
   "cell_type": "markdown",
   "metadata": {},
   "source": [
    "We start with a simple network having several continuous and several discrete (categorical) distributions. We have to define the conditional probabilities for each case in the categorical nodes."
   ]
  },
  {
   "cell_type": "code",
   "execution_count": 92,
   "metadata": {},
   "outputs": [],
   "source": [
    "dI_prob=np.array([0.5, 0.5])\n",
    "dR_prob=np.array([0.5,0.5])\n",
    "dC_prob=np.array([0.5,0.5])\n",
    "\n",
    "de4_prob = np.array([[0.8, 0.2],  # (2x1)x2 choices\n",
    "                    [0.2, 0.8]])\n",
    "de3_prob = np.array([[0.8, 0.2],  # (2x1)x2 choices\n",
    "                    [0.2, 0.8]])\n",
    "de2_prob = np.array([[0.8, 0.2],  # (2x1)x2 choices\n",
    "                    [0.2, 0.8]])   \n",
    "                    \n",
    "f3_prob = np.array([[[1.0, 0.0],  # (2x4)x2 choices\n",
    "                     [0.8, 0.2], \n",
    "                     [1.0, 0.0],\n",
    "                     [0.1, 0.9]], \n",
    "                    [[0.8, 0.2], \n",
    "                     [0.1, 0.9],\n",
    "                     [0.8, 0.2],\n",
    "                     [0.0, 1.0]]])"
   ]
  },
  {
   "cell_type": "markdown",
   "metadata": {},
   "source": [
    "First we will build up the network using variable instantiation for each node. The \"edges\" here are really just indications that the distribution parameters are conditional upon the node's parents.\n",
    "\n",
    "The distribution for continuous node is drown from Normal/NormalMixture(), where the discrete parents are drawn from a Categorical prior(Dirichlet() not really working)."
   ]
  },
  {
   "cell_type": "code",
   "execution_count": 93,
   "metadata": {},
   "outputs": [],
   "source": [
    "with pm.Model() as model:\n",
    "     \n",
    "     I=pm.Categorical('I', p=dI_prob)\n",
    "     R=pm.Categorical('R', p=dR_prob)\n",
    "     C=pm.Categorical('C', p=dC_prob)\n",
    "     E4_prob = theano.shared(de4_prob)  # from  numpy to theano\n",
    "     E3_prob = theano.shared(de3_prob)  # from  numpy to theano\n",
    "     E2_prob = theano.shared(de2_prob)  # from  numpy to theano\n",
    "     \n",
    "     E4_0 = E4_prob[R]  # select the prob array that \"happened\" thanks to parents\n",
    "     E4 = pm.Categorical('E4',p=E4_0)\n",
    "     E3_0 = E3_prob[I]  # select the prob array that \"happened\" thanks to parents\n",
    "     E3 = pm.Categorical('E3',p=E3_0)\n",
    "     E2_0 = E2_prob[C]  # select the prob array that \"happened\" thanks to parents\n",
    "     E2 = pm.Categorical('E2',p=E2_0)\n",
    "     \n",
    "     F2_prob = theano.shared(f3_prob)  # from  numpy to theano\n",
    "     F2_0 = F2_prob[E4, E3 ]  # select the prob array that \"happened\" thanks to parents\n",
    "     F2= pm.Categorical('F2', p=F2_0, observed=[0])"
   ]
  },
  {
   "cell_type": "markdown",
   "metadata": {},
   "source": [
    "#### Results"
   ]
  },
  {
   "cell_type": "code",
   "execution_count": 89,
   "metadata": {},
   "outputs": [
    {
     "name": "stderr",
     "output_type": "stream",
     "text": [
      "Multiprocess sampling (2 chains in 2 jobs)\n",
      "BinaryGibbsMetropolis: [I, R, C, E4, E3, E2]\n",
      "Sampling 2 chains: 100%|██████████| 21000/21000 [01:12<00:00, 288.38draws/s]\n",
      "C:\\Users\\Daniela\\Anaconda3.5\\lib\\site-packages\\mkl_fft\\_numpy_fft.py:1044: FutureWarning: Using a non-tuple sequence for multidimensional indexing is deprecated; use `arr[tuple(seq)]` instead of `arr[seq]`. In the future this will be interpreted as an array index, `arr[np.array(seq)]`, which will result either in an error or a different result.\n",
      "  output = mkl_fft.rfftn_numpy(a, s, axes)\n"
     ]
    }
   ],
   "source": [
    "with model:\n",
    "    trace = pm.sample(10000)"
   ]
  },
  {
   "cell_type": "markdown",
   "metadata": {},
   "source": [
    "PyMC3 automatically assigned the super-efficient NUTS sampler where possible, and various versions of Metropolis to the rest of the nodes."
   ]
  },
  {
   "cell_type": "code",
   "execution_count": 94,
   "metadata": {
    "scrolled": true
   },
   "outputs": [
    {
     "data": {
      "text/plain": [
       "array([[<matplotlib.axes._subplots.AxesSubplot object at 0x0000020C34D08A58>,\n",
       "        <matplotlib.axes._subplots.AxesSubplot object at 0x0000020C331992B0>],\n",
       "       [<matplotlib.axes._subplots.AxesSubplot object at 0x0000020C34A90588>,\n",
       "        <matplotlib.axes._subplots.AxesSubplot object at 0x0000020C3059FA90>],\n",
       "       [<matplotlib.axes._subplots.AxesSubplot object at 0x0000020C33154780>,\n",
       "        <matplotlib.axes._subplots.AxesSubplot object at 0x0000020C306AC0F0>],\n",
       "       [<matplotlib.axes._subplots.AxesSubplot object at 0x0000020C364E5128>,\n",
       "        <matplotlib.axes._subplots.AxesSubplot object at 0x0000020C32F16F98>],\n",
       "       [<matplotlib.axes._subplots.AxesSubplot object at 0x0000020C36C0DDA0>,\n",
       "        <matplotlib.axes._subplots.AxesSubplot object at 0x0000020C34C01B38>],\n",
       "       [<matplotlib.axes._subplots.AxesSubplot object at 0x0000020C36BABE10>,\n",
       "        <matplotlib.axes._subplots.AxesSubplot object at 0x0000020C3611B128>]],\n",
       "      dtype=object)"
      ]
     },
     "execution_count": 94,
     "metadata": {},
     "output_type": "execute_result"
    },
    {
     "data": {
      "image/png": "[encoded data removed]",
      "text/plain": [
       "<Figure size 864x864 with 12 Axes>"
      ]
     },
     "metadata": {
      "needs_background": "light"
     },
     "output_type": "display_data"
    }
   ],
   "source": [
    "pm.traceplot(trace[1000:], varnames=['I', 'R', 'C', 'E4', 'E3', 'E2'])"
   ]
  },
  {
   "cell_type": "code",
   "execution_count": 95,
   "metadata": {},
   "outputs": [
    {
     "name": "stderr",
     "output_type": "stream",
     "text": [
      "C:\\Users\\Daniela\\Anaconda3.5\\lib\\site-packages\\mkl_fft\\_numpy_fft.py:1044: FutureWarning: Using a non-tuple sequence for multidimensional indexing is deprecated; use `arr[tuple(seq)]` instead of `arr[seq]`. In the future this will be interpreted as an array index, `arr[np.array(seq)]`, which will result either in an error or a different result.\n",
      "  output = mkl_fft.rfftn_numpy(a, s, axes)\n"
     ]
    },
    {
     "data": {
      "text/html": [
       "<div>\n",
       "<style scoped>\n",
       "    .dataframe tbody tr th:only-of-type {\n",
       "        vertical-align: middle;\n",
       "    }\n",
       "\n",
       "    .dataframe tbody tr th {\n",
       "        vertical-align: top;\n",
       "    }\n",
       "\n",
       "    .dataframe thead th {\n",
       "        text-align: right;\n",
       "    }\n",
       "</style>\n",
       "<table border=\"1\" class=\"dataframe\">\n",
       "  <thead>\n",
       "    <tr style=\"text-align: right;\">\n",
       "      <th></th>\n",
       "      <th>mean</th>\n",
       "      <th>sd</th>\n",
       "      <th>mc_error</th>\n",
       "      <th>hpd_2.5</th>\n",
       "      <th>hpd_97.5</th>\n",
       "      <th>n_eff</th>\n",
       "      <th>Rhat</th>\n",
       "    </tr>\n",
       "  </thead>\n",
       "  <tbody>\n",
       "    <tr>\n",
       "      <th>I</th>\n",
       "      <td>0.49545</td>\n",
       "      <td>0.499979</td>\n",
       "      <td>0.005698</td>\n",
       "      <td>0.0</td>\n",
       "      <td>1.0</td>\n",
       "      <td>7792.267702</td>\n",
       "      <td>1.000797</td>\n",
       "    </tr>\n",
       "    <tr>\n",
       "      <th>R</th>\n",
       "      <td>0.49910</td>\n",
       "      <td>0.499999</td>\n",
       "      <td>0.005564</td>\n",
       "      <td>0.0</td>\n",
       "      <td>1.0</td>\n",
       "      <td>7789.120728</td>\n",
       "      <td>1.000062</td>\n",
       "    </tr>\n",
       "    <tr>\n",
       "      <th>C</th>\n",
       "      <td>0.50580</td>\n",
       "      <td>0.499966</td>\n",
       "      <td>0.005568</td>\n",
       "      <td>0.0</td>\n",
       "      <td>1.0</td>\n",
       "      <td>8181.518949</td>\n",
       "      <td>0.999986</td>\n",
       "    </tr>\n",
       "    <tr>\n",
       "      <th>E4</th>\n",
       "      <td>0.50050</td>\n",
       "      <td>0.500000</td>\n",
       "      <td>0.005109</td>\n",
       "      <td>0.0</td>\n",
       "      <td>1.0</td>\n",
       "      <td>7789.807937</td>\n",
       "      <td>1.000289</td>\n",
       "    </tr>\n",
       "    <tr>\n",
       "      <th>E3</th>\n",
       "      <td>0.49455</td>\n",
       "      <td>0.499970</td>\n",
       "      <td>0.005560</td>\n",
       "      <td>0.0</td>\n",
       "      <td>1.0</td>\n",
       "      <td>7894.880406</td>\n",
       "      <td>1.000249</td>\n",
       "    </tr>\n",
       "    <tr>\n",
       "      <th>E2</th>\n",
       "      <td>0.49935</td>\n",
       "      <td>0.500000</td>\n",
       "      <td>0.005110</td>\n",
       "      <td>0.0</td>\n",
       "      <td>1.0</td>\n",
       "      <td>8684.510174</td>\n",
       "      <td>1.000216</td>\n",
       "    </tr>\n",
       "  </tbody>\n",
       "</table>\n",
       "</div>"
      ],
      "text/plain": [
       "       mean        sd  mc_error  hpd_2.5  hpd_97.5        n_eff      Rhat\n",
       "I   0.49545  0.499979  0.005698      0.0       1.0  7792.267702  1.000797\n",
       "R   0.49910  0.499999  0.005564      0.0       1.0  7789.120728  1.000062\n",
       "C   0.50580  0.499966  0.005568      0.0       1.0  8181.518949  0.999986\n",
       "E4  0.50050  0.500000  0.005109      0.0       1.0  7789.807937  1.000289\n",
       "E3  0.49455  0.499970  0.005560      0.0       1.0  7894.880406  1.000249\n",
       "E2  0.49935  0.500000  0.005110      0.0       1.0  8684.510174  1.000216"
      ]
     },
     "execution_count": 95,
     "metadata": {},
     "output_type": "execute_result"
    }
   ],
   "source": [
    "summary = pm.summary(trace)\n",
    "summary"
   ]
  },
  {
   "cell_type": "code",
   "execution_count": 35,
   "metadata": {},
   "outputs": [
    {
     "data": {
      "image/png": "[encoded data removed]",
      "text/plain": [
       "<Figure size 432x288 with 2 Axes>"
      ]
     },
     "metadata": {
      "needs_background": "light"
     },
     "output_type": "display_data"
    }
   ],
   "source": [
    "pm.forestplot(trace);"
   ]
  },
  {
   "cell_type": "markdown",
   "metadata": {},
   "source": [
    "### NetworkX with PyMC3"
   ]
  },
  {
   "cell_type": "code",
   "execution_count": 26,
   "metadata": {},
   "outputs": [],
   "source": [
    "import networkx as nx"
   ]
  },
  {
   "cell_type": "code",
   "execution_count": 60,
   "metadata": {},
   "outputs": [],
   "source": [
    "dI_prob=np.array([0.5, 0.5]) #2 choices\n",
    "dR_prob=np.array([0.5,0.5]) #2 choices\n",
    "dC_prob=np.array([0.5,0.5]) #2 choices\n",
    "\n",
    "de4_prob = np.array([[0.8, 0.2],  # (2x1)x2 choices\n",
    "                    [0.2, 0.8]])\n",
    "de3_prob = np.array([[0.8, 0.2],  # (2x1)x2 choices\n",
    "                    [0.2, 0.8]])\n",
    "de2_prob = np.array([[0.8, 0.2],  # (2x1)x2 choices\n",
    "                    [0.2, 0.8]])   \n",
    "                    \n",
    "f3_prob = np.array([[[1.0, 0.0],  # (2x4)x2 choices\n",
    "                     [0.8, 0.2], \n",
    "                     [1.0, 0.0],\n",
    "                     [0.1, 0.9]], \n",
    "                    [[0.8, 0.2], \n",
    "                     [0.1, 0.9],\n",
    "                     [0.8, 0.2],\n",
    "                     [0.0, 1.0]]])"
   ]
  },
  {
   "cell_type": "markdown",
   "metadata": {},
   "source": [
    "Now we can get on with instantiating the theano computation graph. Note that we are referencing each node as a location in a graph, and pulling the objects needed to caclulate parameters directly from the parent nodes, whatever those are."
   ]
  },
  {
   "cell_type": "code",
   "execution_count": 96,
   "metadata": {},
   "outputs": [],
   "source": [
    "BN=nx.DiGraph()\n",
    "BN.add_node('I', dtype='Discrete', prob=dI_prob, pos=(3, 3))\n",
    "BN.add_node('R', dtype='Discrete', prob=dR_prob, pos=(2, 3))\n",
    "BN.add_node('C',dtype='Discrete', prob=dC_prob, pos=(1,2))\n",
    "BN.add_node('E4', dtype='Discrete', prob=de4_prob, pos=(2,2))\n",
    "BN.add_edge('R', 'E4')\n",
    "BN.add_node('E3', dtype='Discrete', prob = de3_prob, pos=(3, 2))\n",
    "BN.add_edge('I', 'E3')\n",
    "BN.add_node('E2', dtype='Discrete', prob = de2_prob, pos=(3, 1))\n",
    "BN.add_node('F2', dtype='Discrete', prob=f3_prob, observe=np.array([0]), pos=(2, 1))\n",
    "BN.add_edges_from([('E4', 'F2'), ('E3', 'F2')])\n",
    "BN.add_edge('F2', 'E2')\n",
    "BN.add_edge('C', 'F2')"
   ]
  },
  {
   "cell_type": "code",
   "execution_count": 97,
   "metadata": {},
   "outputs": [
    {
     "data": {
      "text/plain": [
       "NodeDataView({'I': {'dtype': 'Discrete', 'prob': array([0.5, 0.5]), 'pos': (3, 3)}, 'R': {'dtype': 'Discrete', 'prob': array([0.5, 0.5]), 'pos': (2, 3)}, 'C': {'dtype': 'Discrete', 'prob': array([0.5, 0.5]), 'pos': (1, 2)}, 'E4': {'dtype': 'Discrete', 'prob': array([[0.8, 0.2],\n",
       "       [0.2, 0.8]]), 'pos': (2, 2)}, 'E3': {'dtype': 'Discrete', 'prob': array([[0.8, 0.2],\n",
       "       [0.2, 0.8]]), 'pos': (3, 2)}, 'E2': {'dtype': 'Discrete', 'prob': array([[0.8, 0.2],\n",
       "       [0.2, 0.8]]), 'pos': (3, 1)}, 'F2': {'dtype': 'Discrete', 'prob': array([[[1. , 0. ],\n",
       "        [0.8, 0.2],\n",
       "        [1. , 0. ],\n",
       "        [0.1, 0.9]],\n",
       "\n",
       "       [[0.8, 0.2],\n",
       "        [0.1, 0.9],\n",
       "        [0.8, 0.2],\n",
       "        [0. , 1. ]]]), 'observe': array([0]), 'pos': (2, 1)}})"
      ]
     },
     "execution_count": 97,
     "metadata": {},
     "output_type": "execute_result"
    }
   ],
   "source": [
    "BN.nodes(data=True)"
   ]
  },
  {
   "cell_type": "code",
   "execution_count": 98,
   "metadata": {},
   "outputs": [
    {
     "data": {
      "image/png": "[encoded data removed]",
      "text/plain": [
       "<Figure size 432x288 with 1 Axes>"
      ]
     },
     "metadata": {
      "needs_background": "light"
     },
     "output_type": "display_data"
    }
   ],
   "source": [
    "nx.draw_networkx(BN, pos=nx.get_node_attributes(BN,'pos'))"
   ]
  },
  {
   "cell_type": "code",
   "execution_count": 105,
   "metadata": {},
   "outputs": [
    {
     "name": "stderr",
     "output_type": "stream",
     "text": [
      "C:\\Users\\Daniela\\Anaconda3.5\\lib\\site-packages\\theano\\tensor\\subtensor.py:2197: FutureWarning: Using a non-tuple sequence for multidimensional indexing is deprecated; use `arr[tuple(seq)]` instead of `arr[seq]`. In the future this will be interpreted as an array index, `arr[np.array(seq)]`, which will result either in an error or a different result.\n",
      "  rval = inputs[0].__getitem__(inputs[1:])\n"
     ]
    }
   ],
   "source": [
    "# utily to quickly access the parent nodes' pymc3 objects\n",
    "def activate_node(g, start_node, num=0):          \n",
    "    stack = [start_node]\n",
    "\n",
    "    while stack:\n",
    "        node = stack.pop()\n",
    "        preds = list(g.predecessors(node))\n",
    "        #stack += preds\n",
    "        \n",
    "        #print('%s -> %s' % (node, preds[1]))\n",
    "        return g.node[preds[num]]['dist_obj']\n",
    "\n",
    "with pm.Model() as mod2:\n",
    "    \n",
    "    BN.nodes['I']['dist_obj'] = pm.Categorical('I',p=BN.node['I']['prob'])\n",
    "    BN.nodes['R']['dist_obj'] = pm.Categorical('R',p=BN.node['R']['prob'])\n",
    "    \n",
    "    BN.nodes['C']['dist_obj'] = pm.Categorical('C',p=BN.node['C']['prob'])\n",
    "                                         \n",
    "    BN.nodes['E4']['dist_obj'] =  pm.Categorical('E4',p=theano.shared(BN.node['E4']['prob']))\n",
    "    BN.nodes['E3']['dist_obj'] = pm.Categorical('E3', p=theano.shared(BN.node['E3']['prob']))\n",
    "    BN.nodes['E2']['dist_obj'] =  pm.Categorical('E2',p=theano.shared(BN.node['E2']['prob']))\n",
    "    BN.nodes['F2']['dist_obj'] =  pm.Categorical('F2', p=theano.shared(BN.node['F2']['prob'])[\n",
    "        activate_node(BN,'F2', num=1),\n",
    "        activate_node(BN,'F2', num=0)\n",
    "    ], observed=BN.nodes['F2']['observe'])\n",
    "   # BN['C3']['D4']['bin']=T.switch(T.lt(activate_node(BN,'D4'),9), 0, \n",
    "                                         # T.switch(T.gt(activate_node(BN,'D4'), 9) & T.lt(activate_node(BN,'D4'),11), 1, 2))\n",
    "   \n",
    "    #BN.nodes['D4']['dist_obj'] =pm.Categorical('D4', p=theano.shared(BN.nodes['D4']['prob'])[\n",
    "      # [0],[0]], observed=BN.nodes['D4']['observe'])"
   ]
  },
  {
   "cell_type": "code",
   "execution_count": 106,
   "metadata": {},
   "outputs": [
    {
     "name": "stderr",
     "output_type": "stream",
     "text": [
      "Multiprocess sampling (2 chains in 2 jobs)\n",
      "BinaryGibbsMetropolis: [I, R, C, E4, E3, E2]\n",
      "Sampling 2 chains: 100%|██████████| 21000/21000 [01:33<00:00, 225.17draws/s]\n",
      "C:\\Users\\Daniela\\Anaconda3.5\\lib\\site-packages\\mkl_fft\\_numpy_fft.py:1044: FutureWarning: Using a non-tuple sequence for multidimensional indexing is deprecated; use `arr[tuple(seq)]` instead of `arr[seq]`. In the future this will be interpreted as an array index, `arr[np.array(seq)]`, which will result either in an error or a different result.\n",
      "  output = mkl_fft.rfftn_numpy(a, s, axes)\n"
     ]
    }
   ],
   "source": [
    "with mod2:\n",
    " trace = pm.sample(10000)"
   ]
  },
  {
   "cell_type": "code",
   "execution_count": 107,
   "metadata": {},
   "outputs": [
    {
     "name": "stderr",
     "output_type": "stream",
     "text": [
      "C:\\Users\\Daniela\\Anaconda3.5\\lib\\site-packages\\mkl_fft\\_numpy_fft.py:1044: FutureWarning: Using a non-tuple sequence for multidimensional indexing is deprecated; use `arr[tuple(seq)]` instead of `arr[seq]`. In the future this will be interpreted as an array index, `arr[np.array(seq)]`, which will result either in an error or a different result.\n",
      "  output = mkl_fft.rfftn_numpy(a, s, axes)\n"
     ]
    },
    {
     "data": {
      "text/html": [
       "<div>\n",
       "<style scoped>\n",
       "    .dataframe tbody tr th:only-of-type {\n",
       "        vertical-align: middle;\n",
       "    }\n",
       "\n",
       "    .dataframe tbody tr th {\n",
       "        vertical-align: top;\n",
       "    }\n",
       "\n",
       "    .dataframe thead th {\n",
       "        text-align: right;\n",
       "    }\n",
       "</style>\n",
       "<table border=\"1\" class=\"dataframe\">\n",
       "  <thead>\n",
       "    <tr style=\"text-align: right;\">\n",
       "      <th></th>\n",
       "      <th>mean</th>\n",
       "      <th>sd</th>\n",
       "      <th>mc_error</th>\n",
       "      <th>hpd_2.5</th>\n",
       "      <th>hpd_97.5</th>\n",
       "      <th>n_eff</th>\n",
       "      <th>Rhat</th>\n",
       "    </tr>\n",
       "  </thead>\n",
       "  <tbody>\n",
       "    <tr>\n",
       "      <th>I</th>\n",
       "      <td>0.50190</td>\n",
       "      <td>0.499996</td>\n",
       "      <td>0.001898</td>\n",
       "      <td>0.0</td>\n",
       "      <td>1.0</td>\n",
       "      <td>74146.109891</td>\n",
       "      <td>0.999951</td>\n",
       "    </tr>\n",
       "    <tr>\n",
       "      <th>R</th>\n",
       "      <td>0.49780</td>\n",
       "      <td>0.499995</td>\n",
       "      <td>0.001869</td>\n",
       "      <td>0.0</td>\n",
       "      <td>1.0</td>\n",
       "      <td>76497.277477</td>\n",
       "      <td>0.999954</td>\n",
       "    </tr>\n",
       "    <tr>\n",
       "      <th>C</th>\n",
       "      <td>0.49810</td>\n",
       "      <td>0.499996</td>\n",
       "      <td>0.001786</td>\n",
       "      <td>0.0</td>\n",
       "      <td>1.0</td>\n",
       "      <td>92149.263438</td>\n",
       "      <td>0.999953</td>\n",
       "    </tr>\n",
       "    <tr>\n",
       "      <th>E4</th>\n",
       "      <td>0.33485</td>\n",
       "      <td>0.471938</td>\n",
       "      <td>0.002311</td>\n",
       "      <td>0.0</td>\n",
       "      <td>1.0</td>\n",
       "      <td>29230.443035</td>\n",
       "      <td>0.999971</td>\n",
       "    </tr>\n",
       "    <tr>\n",
       "      <th>E3</th>\n",
       "      <td>0.33290</td>\n",
       "      <td>0.471251</td>\n",
       "      <td>0.002662</td>\n",
       "      <td>0.0</td>\n",
       "      <td>1.0</td>\n",
       "      <td>27900.172253</td>\n",
       "      <td>0.999974</td>\n",
       "    </tr>\n",
       "    <tr>\n",
       "      <th>E2</th>\n",
       "      <td>0.50035</td>\n",
       "      <td>0.500000</td>\n",
       "      <td>0.001771</td>\n",
       "      <td>0.0</td>\n",
       "      <td>1.0</td>\n",
       "      <td>74762.194009</td>\n",
       "      <td>0.999962</td>\n",
       "    </tr>\n",
       "  </tbody>\n",
       "</table>\n",
       "</div>"
      ],
      "text/plain": [
       "       mean        sd  mc_error  hpd_2.5  hpd_97.5         n_eff      Rhat\n",
       "I   0.50190  0.499996  0.001898      0.0       1.0  74146.109891  0.999951\n",
       "R   0.49780  0.499995  0.001869      0.0       1.0  76497.277477  0.999954\n",
       "C   0.49810  0.499996  0.001786      0.0       1.0  92149.263438  0.999953\n",
       "E4  0.33485  0.471938  0.002311      0.0       1.0  29230.443035  0.999971\n",
       "E3  0.33290  0.471251  0.002662      0.0       1.0  27900.172253  0.999974\n",
       "E2  0.50035  0.500000  0.001771      0.0       1.0  74762.194009  0.999962"
      ]
     },
     "execution_count": 107,
     "metadata": {},
     "output_type": "execute_result"
    }
   ],
   "source": [
    "summary = pm.summary(trace)\n",
    "summary"
   ]
  },
  {
   "cell_type": "code",
   "execution_count": null,
   "metadata": {},
   "outputs": [],
   "source": []
  }
 ],
 "metadata": {
  "kernelspec": {
   "display_name": "Python 3",
   "language": "python",
   "name": "python3"
  },
  "language_info": {
   "codemirror_mode": {
    "name": "ipython",
    "version": 3
   },
   "file_extension": ".py",
   "mimetype": "text/x-python",
   "name": "python",
   "nbconvert_exporter": "python",
   "pygments_lexer": "ipython3",
   "version": "3.7.0"
  },
  "toc": {
   "base_numbering": 1,
   "nav_menu": {},
   "number_sections": true,
   "sideBar": true,
   "skip_h1_title": false,
   "title_cell": "Table of Contents",
   "title_sidebar": "Contents",
   "toc_cell": false,
   "toc_position": {},
   "toc_section_display": true,
   "toc_window_display": false
  },
  "varInspector": {
   "cols": {
    "lenName": 16,
    "lenType": 16,
    "lenVar": 40
   },
   "kernels_config": {
    "python": {
     "delete_cmd_postfix": "",
     "delete_cmd_prefix": "del ",
     "library": "var_list.py",
     "varRefreshCmd": "print(var_dic_list())"
    },
    "r": {
     "delete_cmd_postfix": ") ",
     "delete_cmd_prefix": "rm(",
     "library": "var_list.r",
     "varRefreshCmd": "cat(var_dic_list()) "
    }
   },
   "types_to_exclude": [
    "module",
    "function",
    "builtin_function_or_method",
    "instance",
    "_Feature"
   ],
   "window_display": false
  }
 },
 "nbformat": 4,
 "nbformat_minor": 2
}
